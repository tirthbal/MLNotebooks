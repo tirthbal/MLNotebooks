{
 "metadata": {
  "name": "",
  "signature": "sha256:f0fdc2f68a60a68230e393897874ad4b28a678cdd9b99766b9f09c1be5a6f0ea"
 },
 "nbformat": 3,
 "nbformat_minor": 0,
 "worksheets": [
  {
   "cells": [
    {
     "cell_type": "code",
     "collapsed": false,
     "input": [
      "import os\n",
      "import numpy as np\n",
      "import pandas as pd\n",
      "import matplotlib.pyplot as plt\n",
      "%matplotlib inline"
     ],
     "language": "python",
     "metadata": {},
     "outputs": [],
     "prompt_number": 72
    },
    {
     "cell_type": "code",
     "collapsed": false,
     "input": [
      "path = os.getcwd() + '/data/ex1data1.txt'\n",
      "data = pd.read_csv(path, header=None, names=['Population', 'Profit'])\n",
      "data.head"
     ],
     "language": "python",
     "metadata": {},
     "outputs": [
      {
       "metadata": {},
       "output_type": "pyout",
       "prompt_number": 73,
       "text": [
        "<bound method DataFrame.head of     Population    Profit\n",
        "0       6.1101  17.59200\n",
        "1       5.5277   9.13020\n",
        "2       8.5186  13.66200\n",
        "3       7.0032  11.85400\n",
        "4       5.8598   6.82330\n",
        "5       8.3829  11.88600\n",
        "6       7.4764   4.34830\n",
        "7       8.5781  12.00000\n",
        "8       6.4862   6.59870\n",
        "9       5.0546   3.81660\n",
        "10      5.7107   3.25220\n",
        "11     14.1640  15.50500\n",
        "12      5.7340   3.15510\n",
        "13      8.4084   7.22580\n",
        "14      5.6407   0.71618\n",
        "15      5.3794   3.51290\n",
        "16      6.3654   5.30480\n",
        "17      5.1301   0.56077\n",
        "18      6.4296   3.65180\n",
        "19      7.0708   5.38930\n",
        "20      6.1891   3.13860\n",
        "21     20.2700  21.76700\n",
        "22      5.4901   4.26300\n",
        "23      6.3261   5.18750\n",
        "24      5.5649   3.08250\n",
        "25     18.9450  22.63800\n",
        "26     12.8280  13.50100\n",
        "27     10.9570   7.04670\n",
        "28     13.1760  14.69200\n",
        "29     22.2030  24.14700\n",
        "..         ...       ...\n",
        "67     10.2360   7.77540\n",
        "68      5.4994   1.01730\n",
        "69     20.3410  20.99200\n",
        "70     10.1360   6.67990\n",
        "71      7.3345   4.02590\n",
        "72      6.0062   1.27840\n",
        "73      7.2259   3.34110\n",
        "74      5.0269  -2.68070\n",
        "75      6.5479   0.29678\n",
        "76      7.5386   3.88450\n",
        "77      5.0365   5.70140\n",
        "78     10.2740   6.75260\n",
        "79      5.1077   2.05760\n",
        "80      5.7292   0.47953\n",
        "81      5.1884   0.20421\n",
        "82      6.3557   0.67861\n",
        "83      9.7687   7.54350\n",
        "84      6.5159   5.34360\n",
        "85      8.5172   4.24150\n",
        "86      9.1802   6.79810\n",
        "87      6.0020   0.92695\n",
        "88      5.5204   0.15200\n",
        "89      5.0594   2.82140\n",
        "90      5.7077   1.84510\n",
        "91      7.6366   4.29590\n",
        "92      5.8707   7.20290\n",
        "93      5.3054   1.98690\n",
        "94      8.2934   0.14454\n",
        "95     13.3940   9.05510\n",
        "96      5.4369   0.61705\n",
        "\n",
        "[97 rows x 2 columns]>"
       ]
      }
     ],
     "prompt_number": 73
    },
    {
     "cell_type": "code",
     "collapsed": false,
     "input": [
      "data.describe()"
     ],
     "language": "python",
     "metadata": {},
     "outputs": [
      {
       "html": [
        "<div style=\"max-height:1000px;max-width:1500px;overflow:auto;\">\n",
        "<table border=\"1\" class=\"dataframe\">\n",
        "  <thead>\n",
        "    <tr style=\"text-align: right;\">\n",
        "      <th></th>\n",
        "      <th>Population</th>\n",
        "      <th>Profit</th>\n",
        "    </tr>\n",
        "  </thead>\n",
        "  <tbody>\n",
        "    <tr>\n",
        "      <th>count</th>\n",
        "      <td> 97.000000</td>\n",
        "      <td> 97.000000</td>\n",
        "    </tr>\n",
        "    <tr>\n",
        "      <th>mean</th>\n",
        "      <td>  8.159800</td>\n",
        "      <td>  5.839135</td>\n",
        "    </tr>\n",
        "    <tr>\n",
        "      <th>std</th>\n",
        "      <td>  3.869884</td>\n",
        "      <td>  5.510262</td>\n",
        "    </tr>\n",
        "    <tr>\n",
        "      <th>min</th>\n",
        "      <td>  5.026900</td>\n",
        "      <td> -2.680700</td>\n",
        "    </tr>\n",
        "    <tr>\n",
        "      <th>25%</th>\n",
        "      <td>  5.707700</td>\n",
        "      <td>  1.986900</td>\n",
        "    </tr>\n",
        "    <tr>\n",
        "      <th>50%</th>\n",
        "      <td>  6.589400</td>\n",
        "      <td>  4.562300</td>\n",
        "    </tr>\n",
        "    <tr>\n",
        "      <th>75%</th>\n",
        "      <td>  8.578100</td>\n",
        "      <td>  7.046700</td>\n",
        "    </tr>\n",
        "    <tr>\n",
        "      <th>max</th>\n",
        "      <td> 22.203000</td>\n",
        "      <td> 24.147000</td>\n",
        "    </tr>\n",
        "  </tbody>\n",
        "</table>\n",
        "</div>"
       ],
       "metadata": {},
       "output_type": "pyout",
       "prompt_number": 74,
       "text": [
        "       Population     Profit\n",
        "count   97.000000  97.000000\n",
        "mean     8.159800   5.839135\n",
        "std      3.869884   5.510262\n",
        "min      5.026900  -2.680700\n",
        "25%      5.707700   1.986900\n",
        "50%      6.589400   4.562300\n",
        "75%      8.578100   7.046700\n",
        "max     22.203000  24.147000"
       ]
      }
     ],
     "prompt_number": 74
    },
    {
     "cell_type": "code",
     "collapsed": false,
     "input": [
      "data.plot(kind='scatter', x='Population', y='Profit', figsize=(12,8))"
     ],
     "language": "python",
     "metadata": {},
     "outputs": [
      {
       "metadata": {},
       "output_type": "pyout",
       "prompt_number": 75,
       "text": [
        "<matplotlib.axes._subplots.AxesSubplot at 0x7fe16ef31f60>"
       ]
      },
      {
       "metadata": {},
       "output_type": "display_data",
       "png": "[encoded data removed]",
       "text": [
        "<matplotlib.figure.Figure at 0x7fe16ec6b898>"
       ]
      }
     ],
     "prompt_number": 75
    },
    {
     "cell_type": "code",
     "collapsed": false,
     "input": [
      "def compute_cost(X, Y, theta):\n",
      "    inner = np.power((X * theta.T - Y),2)\n",
      "    return np.sum(inner)/(2*len(X))"
     ],
     "language": "python",
     "metadata": {},
     "outputs": [],
     "prompt_number": 76
    },
    {
     "cell_type": "code",
     "collapsed": false,
     "input": [
      "# Inserting x0 as 1, first column all value 1\n",
      "data.insert(0, 'Ones', 1)"
     ],
     "language": "python",
     "metadata": {},
     "outputs": [],
     "prompt_number": 77
    },
    {
     "cell_type": "code",
     "collapsed": false,
     "input": [
      "# set X (training data) and y (target variable)\n",
      "cols = data.shape[1]\n",
      "X = data.iloc[:,0:cols-1]\n",
      "y = data.iloc[:,cols-1:cols]"
     ],
     "language": "python",
     "metadata": {},
     "outputs": [],
     "prompt_number": 78
    },
    {
     "cell_type": "code",
     "collapsed": false,
     "input": [
      "# convert from data frames to numpy matrices\n",
      "X = np.matrix(X.values)\n",
      "y = np.matrix(y.values)\n",
      "theta = np.matrix(np.array([0,0]))"
     ],
     "language": "python",
     "metadata": {},
     "outputs": [],
     "prompt_number": 79
    },
    {
     "cell_type": "code",
     "collapsed": false,
     "input": [
      "# Checking for matrix dimensions\n",
      "X.shape, y.shape, theta.shape"
     ],
     "language": "python",
     "metadata": {},
     "outputs": [
      {
       "metadata": {},
       "output_type": "pyout",
       "prompt_number": 80,
       "text": [
        "((97, 2), (97, 1), (1, 2))"
       ]
      }
     ],
     "prompt_number": 80
    },
    {
     "cell_type": "code",
     "collapsed": false,
     "input": [
      "compute_cost(X, y, theta)"
     ],
     "language": "python",
     "metadata": {},
     "outputs": [
      {
       "metadata": {},
       "output_type": "pyout",
       "prompt_number": 81,
       "text": [
        "32.072733877455654"
       ]
      }
     ],
     "prompt_number": 81
    },
    {
     "cell_type": "code",
     "collapsed": false,
     "input": [
      "def gradient_descent(X, y, theta, alpha, iters):\n",
      "    temp = np.matrix(np.zeros(theta.shape))\n",
      "    parameters = int(theta.ravel().shape[1])\n",
      "    cost = np.zeros(iters)\n",
      "    for i in range(iters):\n",
      "        errors = (X * theta.T) - y\n",
      "#         for j in range(parameters):\n",
      "#             term = np.multiply(errors, X[:,j])\n",
      "#             temp[0,j] = theta[0,j] - ((alpha / len(X)) * np.sum(term))\n",
      "#         theta = temp\n",
      "        theta = np.subtract(theta, (alpha/len(X))*(errors.T * X))\n",
      "        cost[i] = compute_cost(X,y, theta)\n",
      "    return theta, cost\n",
      "            "
     ],
     "language": "python",
     "metadata": {},
     "outputs": [],
     "prompt_number": 105
    },
    {
     "cell_type": "code",
     "collapsed": false,
     "input": [
      "# initialize variables for learning rate and iterations\n",
      "alpha = 0.01  \n",
      "iters = 1000\n",
      "\n",
      "# perform gradient descent to \"fit\" the model parameters\n",
      "g, cost = gradient_descent(X, y, theta, alpha, iters)  \n",
      "g"
     ],
     "language": "python",
     "metadata": {},
     "outputs": [
      {
       "metadata": {},
       "output_type": "pyout",
       "prompt_number": 106,
       "text": [
        "matrix([[-3.24140214,  1.1272942 ]])"
       ]
      }
     ],
     "prompt_number": 106
    },
    {
     "cell_type": "code",
     "collapsed": false,
     "input": [
      "# Predict for new population 35000 and 70000\n",
      "X_new1 = [1, 3.5]\n",
      "y_new1 = X_new1*g.T\n",
      "y_new1"
     ],
     "language": "python",
     "metadata": {},
     "outputs": [
      {
       "metadata": {},
       "output_type": "pyout",
       "prompt_number": 84,
       "text": [
        "matrix([[ 0.70412756]])"
       ]
      }
     ],
     "prompt_number": 84
    },
    {
     "cell_type": "code",
     "collapsed": false,
     "input": [
      "X_new2 = [1, 7]\n",
      "y_new2 = X_new2*g.T\n",
      "y_new2"
     ],
     "language": "python",
     "metadata": {},
     "outputs": [
      {
       "metadata": {},
       "output_type": "pyout",
       "prompt_number": 85,
       "text": [
        "matrix([[ 4.64965727]])"
       ]
      }
     ],
     "prompt_number": 85
    },
    {
     "cell_type": "code",
     "collapsed": false,
     "input": [
      "# Total error on prediction\n",
      "compute_cost(X, y, g)"
     ],
     "language": "python",
     "metadata": {},
     "outputs": [
      {
       "metadata": {},
       "output_type": "pyout",
       "prompt_number": 86,
       "text": [
        "4.5159555030789136"
       ]
      }
     ],
     "prompt_number": 86
    },
    {
     "cell_type": "code",
     "collapsed": false,
     "input": [
      "x = np.linspace(data.Population.min(), data.Population.max(), 100)  \n",
      "f = g[0, 0] + (g[0, 1] * x)\n",
      "\n",
      "fig, ax = plt.subplots(figsize=(12,8))  \n",
      "ax.plot(x, f, 'r', label='Prediction')  \n",
      "ax.scatter(data.Population, data.Profit, label='Traning Data')  \n",
      "ax.legend(loc=2)  \n",
      "ax.set_xlabel('Population')  \n",
      "ax.set_ylabel('Profit')  \n",
      "ax.set_title('Predicted Profit vs. Population Size') "
     ],
     "language": "python",
     "metadata": {},
     "outputs": [
      {
       "metadata": {},
       "output_type": "pyout",
       "prompt_number": 87,
       "text": [
        "<matplotlib.text.Text at 0x7fe16eb7da90>"
       ]
      },
      {
       "metadata": {},
       "output_type": "display_data",
       "png": "[encoded data removed]",
       "text": [
        "<matplotlib.figure.Figure at 0x7fe16ebcae48>"
       ]
      }
     ],
     "prompt_number": 87
    },
    {
     "cell_type": "code",
     "collapsed": false,
     "input": [
      "# Iterations vs cost to check our algo is converging or not\n",
      "fig, ax = plt.subplots(figsize=(12,8))  \n",
      "ax.plot(np.arange(iters), cost, 'r')  \n",
      "ax.set_xlabel('Iterations')  \n",
      "ax.set_ylabel('Cost')  \n",
      "ax.set_title('Error vs. Training Epoch') "
     ],
     "language": "python",
     "metadata": {},
     "outputs": [
      {
       "metadata": {},
       "output_type": "pyout",
       "prompt_number": 107,
       "text": [
        "<matplotlib.text.Text at 0x7fe16bd37390>"
       ]
      },
      {
       "metadata": {},
       "output_type": "display_data",
       "png": "[encoded data removed]",
       "text": [
        "<matplotlib.figure.Figure at 0x7fe16eccd128>"
       ]
      }
     ],
     "prompt_number": 107
    },
    {
     "cell_type": "code",
     "collapsed": false,
     "input": [],
     "language": "python",
     "metadata": {},
     "outputs": []
    }
   ],
   "metadata": {}
  }
 ]
}