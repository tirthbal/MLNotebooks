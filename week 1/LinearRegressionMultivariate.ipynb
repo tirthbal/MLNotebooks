{
 "metadata": {
  "name": "",
  "signature": "sha256:f6877b741acbd3c911a3c18017f43f3da779aa02926c50e3b042312bc0847907"
 },
 "nbformat": 3,
 "nbformat_minor": 0,
 "worksheets": [
  {
   "cells": [
    {
     "cell_type": "code",
     "collapsed": false,
     "input": [
      "import os\n",
      "import numpy as np\n",
      "import pandas as pd\n",
      "import matplotlib.pyplot as plt\n",
      "%matplotlib inline"
     ],
     "language": "python",
     "metadata": {},
     "outputs": [],
     "prompt_number": 1
    },
    {
     "cell_type": "code",
     "collapsed": false,
     "input": [
      "path = os.getcwd() + '/data/ex1data2.txt'\n",
      "data = pd.read_csv(path, header=None, names=['Size', 'Bedrooms', 'Prices'])\n",
      "data.head()"
     ],
     "language": "python",
     "metadata": {},
     "outputs": [
      {
       "html": [
        "<div style=\"max-height:1000px;max-width:1500px;overflow:auto;\">\n",
        "<table border=\"1\" class=\"dataframe\">\n",
        "  <thead>\n",
        "    <tr style=\"text-align: right;\">\n",
        "      <th></th>\n",
        "      <th>Size</th>\n",
        "      <th>Bedrooms</th>\n",
        "      <th>Prices</th>\n",
        "    </tr>\n",
        "  </thead>\n",
        "  <tbody>\n",
        "    <tr>\n",
        "      <th>0</th>\n",
        "      <td> 2104</td>\n",
        "      <td> 3</td>\n",
        "      <td> 399900</td>\n",
        "    </tr>\n",
        "    <tr>\n",
        "      <th>1</th>\n",
        "      <td> 1600</td>\n",
        "      <td> 3</td>\n",
        "      <td> 329900</td>\n",
        "    </tr>\n",
        "    <tr>\n",
        "      <th>2</th>\n",
        "      <td> 2400</td>\n",
        "      <td> 3</td>\n",
        "      <td> 369000</td>\n",
        "    </tr>\n",
        "    <tr>\n",
        "      <th>3</th>\n",
        "      <td> 1416</td>\n",
        "      <td> 2</td>\n",
        "      <td> 232000</td>\n",
        "    </tr>\n",
        "    <tr>\n",
        "      <th>4</th>\n",
        "      <td> 3000</td>\n",
        "      <td> 4</td>\n",
        "      <td> 539900</td>\n",
        "    </tr>\n",
        "  </tbody>\n",
        "</table>\n",
        "</div>"
       ],
       "metadata": {},
       "output_type": "pyout",
       "prompt_number": 7,
       "text": [
        "   Size  Bedrooms  Prices\n",
        "0  2104         3  399900\n",
        "1  1600         3  329900\n",
        "2  2400         3  369000\n",
        "3  1416         2  232000\n",
        "4  3000         4  539900"
       ]
      }
     ],
     "prompt_number": 7
    },
    {
     "cell_type": "code",
     "collapsed": false,
     "input": [
      "# Since size and no' of bedrooms are not in same scale then size will result in dwarfing the contribution of bedrooms\n",
      "# To avoid this problem we have to do feature normalization\n",
      "# Applying feature normalization\n",
      "data = (data-data.mean())/data.std()\n",
      "data.head()"
     ],
     "language": "python",
     "metadata": {},
     "outputs": [
      {
       "html": [
        "<div style=\"max-height:1000px;max-width:1500px;overflow:auto;\">\n",
        "<table border=\"1\" class=\"dataframe\">\n",
        "  <thead>\n",
        "    <tr style=\"text-align: right;\">\n",
        "      <th></th>\n",
        "      <th>Size</th>\n",
        "      <th>Bedrooms</th>\n",
        "      <th>Prices</th>\n",
        "    </tr>\n",
        "  </thead>\n",
        "  <tbody>\n",
        "    <tr>\n",
        "      <th>0</th>\n",
        "      <td> 0.130010</td>\n",
        "      <td>-0.223675</td>\n",
        "      <td> 0.475747</td>\n",
        "    </tr>\n",
        "    <tr>\n",
        "      <th>1</th>\n",
        "      <td>-0.504190</td>\n",
        "      <td>-0.223675</td>\n",
        "      <td>-0.084074</td>\n",
        "    </tr>\n",
        "    <tr>\n",
        "      <th>2</th>\n",
        "      <td> 0.502476</td>\n",
        "      <td>-0.223675</td>\n",
        "      <td> 0.228626</td>\n",
        "    </tr>\n",
        "    <tr>\n",
        "      <th>3</th>\n",
        "      <td>-0.735723</td>\n",
        "      <td>-1.537767</td>\n",
        "      <td>-0.867025</td>\n",
        "    </tr>\n",
        "    <tr>\n",
        "      <th>4</th>\n",
        "      <td> 1.257476</td>\n",
        "      <td> 1.090417</td>\n",
        "      <td> 1.595389</td>\n",
        "    </tr>\n",
        "  </tbody>\n",
        "</table>\n",
        "</div>"
       ],
       "metadata": {},
       "output_type": "pyout",
       "prompt_number": 8,
       "text": [
        "       Size  Bedrooms    Prices\n",
        "0  0.130010 -0.223675  0.475747\n",
        "1 -0.504190 -0.223675 -0.084074\n",
        "2  0.502476 -0.223675  0.228626\n",
        "3 -0.735723 -1.537767 -0.867025\n",
        "4  1.257476  1.090417  1.595389"
       ]
      }
     ],
     "prompt_number": 8
    },
    {
     "cell_type": "code",
     "collapsed": false,
     "input": [
      "# Mean squared error cost function\n",
      "def compute_cost(X, y, theta):\n",
      "    inner = np.power((X*theta.T - y), 2)\n",
      "    return np.sum(inner)/(2*len(X))"
     ],
     "language": "python",
     "metadata": {},
     "outputs": [],
     "prompt_number": 9
    },
    {
     "cell_type": "code",
     "collapsed": false,
     "input": [
      "# Inserting zeros in first column\n",
      "data.insert(0, 'Ones', 1)\n",
      "data.head()"
     ],
     "language": "python",
     "metadata": {},
     "outputs": [
      {
       "html": [
        "<div style=\"max-height:1000px;max-width:1500px;overflow:auto;\">\n",
        "<table border=\"1\" class=\"dataframe\">\n",
        "  <thead>\n",
        "    <tr style=\"text-align: right;\">\n",
        "      <th></th>\n",
        "      <th>Ones</th>\n",
        "      <th>Size</th>\n",
        "      <th>Bedrooms</th>\n",
        "      <th>Prices</th>\n",
        "    </tr>\n",
        "  </thead>\n",
        "  <tbody>\n",
        "    <tr>\n",
        "      <th>0</th>\n",
        "      <td> 1</td>\n",
        "      <td> 0.130010</td>\n",
        "      <td>-0.223675</td>\n",
        "      <td> 0.475747</td>\n",
        "    </tr>\n",
        "    <tr>\n",
        "      <th>1</th>\n",
        "      <td> 1</td>\n",
        "      <td>-0.504190</td>\n",
        "      <td>-0.223675</td>\n",
        "      <td>-0.084074</td>\n",
        "    </tr>\n",
        "    <tr>\n",
        "      <th>2</th>\n",
        "      <td> 1</td>\n",
        "      <td> 0.502476</td>\n",
        "      <td>-0.223675</td>\n",
        "      <td> 0.228626</td>\n",
        "    </tr>\n",
        "    <tr>\n",
        "      <th>3</th>\n",
        "      <td> 1</td>\n",
        "      <td>-0.735723</td>\n",
        "      <td>-1.537767</td>\n",
        "      <td>-0.867025</td>\n",
        "    </tr>\n",
        "    <tr>\n",
        "      <th>4</th>\n",
        "      <td> 1</td>\n",
        "      <td> 1.257476</td>\n",
        "      <td> 1.090417</td>\n",
        "      <td> 1.595389</td>\n",
        "    </tr>\n",
        "  </tbody>\n",
        "</table>\n",
        "</div>"
       ],
       "metadata": {},
       "output_type": "pyout",
       "prompt_number": 10,
       "text": [
        "   Ones      Size  Bedrooms    Prices\n",
        "0     1  0.130010 -0.223675  0.475747\n",
        "1     1 -0.504190 -0.223675 -0.084074\n",
        "2     1  0.502476 -0.223675  0.228626\n",
        "3     1 -0.735723 -1.537767 -0.867025\n",
        "4     1  1.257476  1.090417  1.595389"
       ]
      }
     ],
     "prompt_number": 10
    },
    {
     "cell_type": "code",
     "collapsed": false,
     "input": [
      "# Gradient descent to find global optima\n",
      "def gradient_descent(X, y, theta, iters ):\n",
      "    cost = np.zeros(iters)\n",
      "    for i in range(iters):\n",
      "        error = (X*theta.T - y)\n",
      "        cost[i] = compute_cost(X, y, theta)\n",
      "        theta = np.subtract(theta, (alpha/len(X))*(error.T * X))\n",
      "    return theta, cost"
     ],
     "language": "python",
     "metadata": {},
     "outputs": [],
     "prompt_number": 24
    },
    {
     "cell_type": "code",
     "collapsed": false,
     "input": [
      "# Creating training data set\n",
      "cols = data.shape[1]\n",
      "X = data.iloc[:,0:cols-1]\n",
      "y = data.iloc[:,cols-1:cols]"
     ],
     "language": "python",
     "metadata": {},
     "outputs": [],
     "prompt_number": 19
    },
    {
     "cell_type": "code",
     "collapsed": false,
     "input": [
      "# Converting from data frames to numpy matrices\n",
      "X = np.matrix(X.values)\n",
      "y = np.matrix(y.values)\n",
      "theta = np.matrix(np.zeros(cols-1))"
     ],
     "language": "python",
     "metadata": {},
     "outputs": [],
     "prompt_number": 20
    },
    {
     "cell_type": "code",
     "collapsed": false,
     "input": [
      "X.shape, y.shape, theta.shape"
     ],
     "language": "python",
     "metadata": {},
     "outputs": [
      {
       "metadata": {},
       "output_type": "pyout",
       "prompt_number": 21,
       "text": [
        "((47, 3), (47, 1), (1, 3))"
       ]
      }
     ],
     "prompt_number": 21
    },
    {
     "cell_type": "code",
     "collapsed": false,
     "input": [
      "compute_cost(X, y, theta)"
     ],
     "language": "python",
     "metadata": {},
     "outputs": [
      {
       "metadata": {},
       "output_type": "pyout",
       "prompt_number": 22,
       "text": [
        "0.48936170212765967"
       ]
      }
     ],
     "prompt_number": 22
    },
    {
     "cell_type": "code",
     "collapsed": false,
     "input": [
      "# initialize variables for learning rate and iterations\n",
      "alpha = 0.01\n",
      "iters = 1000\n",
      "\n",
      "# running gradient descent to fit the model parameters\n",
      "g, cost = gradient_descent(X, y, theta, iters)\n",
      "g"
     ],
     "language": "python",
     "metadata": {},
     "outputs": [
      {
       "metadata": {},
       "output_type": "pyout",
       "prompt_number": 25,
       "text": [
        "matrix([[ -1.10969153e-16,   8.78503652e-01,  -4.69166570e-02]])"
       ]
      }
     ],
     "prompt_number": 25
    },
    {
     "cell_type": "code",
     "collapsed": false,
     "input": [
      "# \n",
      "compute_cost(X, y, g)"
     ],
     "language": "python",
     "metadata": {},
     "outputs": [
      {
       "metadata": {},
       "output_type": "pyout",
       "prompt_number": 26,
       "text": [
        "0.13070336960771897"
       ]
      }
     ],
     "prompt_number": 26
    },
    {
     "cell_type": "code",
     "collapsed": false,
     "input": [
      "# Plotting iterations vs cost \n",
      "fig, ax = plt.subplots(figsize=(12, 8))\n",
      "ax.plot(np.arange(iters), cost, 'r')\n",
      "ax.set_xlabel('Iterations')\n",
      "ax.set_ylabel('Cost')\n",
      "ax.set_title('Error vs Training epoch')"
     ],
     "language": "python",
     "metadata": {},
     "outputs": [
      {
       "metadata": {},
       "output_type": "pyout",
       "prompt_number": 28,
       "text": [
        "<matplotlib.text.Text at 0x7f2db1898d68>"
       ]
      },
      {
       "metadata": {},
       "output_type": "display_data",
       "png": "[encoded data removed]",
       "text": [
        "<matplotlib.figure.Figure at 0x7f2db1915438>"
       ]
      }
     ],
     "prompt_number": 28
    },
    {
     "cell_type": "code",
     "collapsed": false,
     "input": [],
     "language": "python",
     "metadata": {},
     "outputs": []
    }
   ],
   "metadata": {}
  }
 ]
}